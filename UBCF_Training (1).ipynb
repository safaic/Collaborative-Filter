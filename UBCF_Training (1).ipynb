{
  "cells": [
    {
      "cell_type": "code",
      "execution_count": null,
      "metadata": {
        "id": "diFkRabLv63S"
      },
      "outputs": [],
      "source": [
        "from imblearn.over_sampling import RandomOverSampler\n",
        "oversampler = RandomOverSampler()"
      ]
    },
    {
      "cell_type": "code",
      "execution_count": null,
      "metadata": {
        "id": "tkaA4lMmwvl4"
      },
      "outputs": [],
      "source": [
        "import pandas as pd\n",
        "import math\n",
        "from surprise import Dataset\n",
        "from surprise import Reader\n",
        "import matplotlib.pyplot as plt\n",
        "import numpy as np\n",
        "from surprise import accuracy\n",
        "from sklearn.metrics import confusion_matrix\n",
        "from surprise import KNNWithMeans, KNNBaseline, KNNBasic, SVDpp, SlopeOne, NMF, NormalPredictor, KNNWithZScore, BaselineOnly, CoClustering, SVD\n",
        "from surprise.model_selection import cross_validate\n"
      ]
    },
    {
      "cell_type": "code",
      "execution_count": null,
      "metadata": {
        "id": "2NSspQGFw48S"
      },
      "outputs": [],
      "source": [
        "dfo = pd.read_csv(\"/content/drive/MyDrive/Comp/Export2v2v3.csv\")"
      ]
    },
    {
      "cell_type": "code",
      "execution_count": null,
      "metadata": {
        "colab": {
          "base_uri": "https://localhost:8080/"
        },
        "id": "KmiJnSfMfNWK",
        "outputId": "4745437b-9d3b-481f-b873-0c66405b5f28"
      },
      "outputs": [
        {
          "name": "stdout",
          "output_type": "stream",
          "text": [
            "['SelfAwareness', 'SelfManagement', 'ResponsibleDecisionMaking', 'CheckInContribution', 'SocialAwareness', 'RelationshipSkills']\n",
            "['AYK', 'ASK', 'ACT', 'BLOG']\n",
            "[1, 2, 3, 4, 5, 6, 7, 8, 9, 10, 11, 12, 13]\n"
          ]
        }
      ],
      "source": [
        "#Generate List of Unique Values for UserID, Type, Competency\n",
        "type_List = dfo['type'].unique().tolist()\n",
        "user_List = dfo['CustID'].unique().tolist()\n",
        "competency_List = dfo['competency'].unique().tolist()\n",
        "\n",
        "print(competency_List)\n",
        "print(type_List)\n",
        "print(user_List)"
      ]
    },
    {
      "cell_type": "code",
      "execution_count": null,
      "metadata": {
        "id": "AeBTtyViwb_9"
      },
      "outputs": [],
      "source": [
        "oversampler = RandomOverSampler(sampling_strategy=0.2)\n",
        "masdas = df_oversampled, y_oversampled = oversampler.fit_resample(dfo, dfo['rating'])"
      ]
    },
    {
      "cell_type": "code",
      "execution_count": null,
      "metadata": {
        "colab": {
          "base_uri": "https://localhost:8080/"
        },
        "id": "AUHgg2fbweSc",
        "outputId": "57bfc96c-f50b-4239-fd01-2dc0d5753ecd"
      },
      "outputs": [],
      "source": [
        "X = dfo.drop('rating', axis=1)\n",
        "y = dfo['rating']\n",
        "\n",
        "# Oversample the data\n",
        "oversampler = RandomOverSampler(sampling_strategy=0.2)\n",
        "X_oversampled, y_oversampled = oversampler.fit_resample(X, y)\n",
        "\n",
        "# Create a new DataFrame combining the original and oversampled data\n",
        "df_oversampled = pd.concat([X, y], axis=1)\n",
        "df_oversampled = df_oversampled.append(pd.DataFrame(data=X_oversampled, columns=X.columns))\n",
        "df_oversampled['rating'] = y_oversampled"
      ]
    },
    {
      "cell_type": "code",
      "execution_count": null,
      "metadata": {
        "id": "hJFeaSJqxJga"
      },
      "outputs": [],
      "source": [
        "dfo = df_oversampled"
      ]
    },
    {
      "cell_type": "code",
      "execution_count": null,
      "metadata": {
        "colab": {
          "base_uri": "https://localhost:8080/"
        },
        "id": "QvGxpLKKxWL6",
        "outputId": "2ce11575-9792-455d-9c8a-2e0701c2c322"
      },
      "outputs": [],
      "source": [
        "dfo.rating.value_counts(normalize=False)"
      ]
    },
    {
      "cell_type": "code",
      "execution_count": null,
      "metadata": {
        "id": "vfhUj3N337uj"
      },
      "outputs": [],
      "source": [
        "df_comp = dfo[['CustID','competency','rating']]\n",
        "df_type = dfo[['CustID','type','rating']]\n",
        "df_resource = dfo[['CustID','resource_id','rating']]\n",
        "reader = Reader(rating_scale=(0, 1))"
      ]
    },
    {
      "attachments": {},
      "cell_type": "markdown",
      "metadata": {
        "id": "n5JZ3ZeZfmS3"
      },
      "source": [
        "See which model type has the highest RMSE"
      ]
    },
    {
      "cell_type": "code",
      "execution_count": null,
      "metadata": {
        "id": "--Lm1pWlAs1Y"
      },
      "outputs": [],
      "source": [
        "reader = Reader(rating_scale=(0, 1))\n",
        "data_comp = Dataset.load_from_df(df_comp[[\"CustID\", \"competency\", \"rating\"]], reader)\n",
        "benchmark = []\n",
        "# Iterate over all algorithms\n",
        "for algorithm in [SVD(), SVDpp(), SlopeOne(), NMF(), NormalPredictor(), KNNBaseline(), KNNBasic(), KNNWithMeans(), KNNWithZScore(), BaselineOnly(), CoClustering()]:\n",
        "    # Perform cross validation\n",
        "    results = cross_validate(algorithm, data_comp, measures=['RMSE'], cv=3, verbose=False)\n",
        "\n",
        "    # Get results & append algorithm name\n",
        "    tmp = pd.DataFrame.from_dict(results).mean(axis=0)\n",
        "    tmp = tmp.append(pd.Series([str(algorithm).split(' ')[0].split('.')[-1]], index=['Algorithm']))\n",
        "    benchmark.append(tmp)\n",
        "\n",
        "pd.DataFrame(benchmark).set_index('Algorithm').sort_values('test_rmse')"
      ]
    },
    {
      "attachments": {},
      "cell_type": "markdown",
      "metadata": {
        "id": "8HaQNxxcd701"
      },
      "source": [
        "Train Models"
      ]
    },
    {
      "cell_type": "code",
      "execution_count": null,
      "metadata": {
        "colab": {
          "base_uri": "https://localhost:8080/"
        },
        "id": "7o256szUL5WU",
        "outputId": "c50e917c-18ce-4198-8436-9ae8dbab7b0d"
      },
      "outputs": [],
      "source": [
        "#Competency Model\n",
        "data_comp = Dataset.load_from_df(df_comp[[\"CustID\", \"competency\", \"rating\"]], reader)\n",
        "trainset = data_comp.build_full_trainset()\n",
        "sim_options = {\n",
        "      \"name\": \"cosine\",\n",
        "      \"user_based\": True,\n",
        "      \"k\" : 5\n",
        "  }\n",
        "  # Create the algorithm\n",
        "algo = KNNWithMeans(sim_options=sim_options)\n",
        "\n",
        "  # Train the algorithm on the training set\n",
        "algo.fit(trainset)\n",
        "\n",
        "\n",
        "#Competency Model\n",
        "data_comp = Dataset.load_from_df(df_type[[\"CustID\", \"type\", \"rating\"]], reader)\n",
        "trainset = data_comp.build_full_trainset()\n",
        "sim_options = {\n",
        "      \"name\": \"cosine\",\n",
        "      \"user_based\": True,\n",
        "      \"k\" : 5\n",
        "  }\n",
        "  # Create the algorithm\n",
        "algo1 = KNNWithMeans(sim_options=sim_options)\n",
        "\n",
        "  # Train the algorithm on the training set\n",
        "algo1.fit(trainset)"
      ]
    },
    {
      "attachments": {},
      "cell_type": "markdown",
      "metadata": {
        "id": "cAtU8fzyfaMg"
      },
      "source": [
        "Create Ranked Predictions"
      ]
    },
    {
      "cell_type": "code",
      "execution_count": null,
      "metadata": {
        "id": "yXUOXd2YFX-5"
      },
      "outputs": [],
      "source": [
        "type_List = dfo['type'].unique().tolist()\n",
        "user_List = dfo['CustID'].unique().tolist()\n",
        "competency_List = dfo['competency'].unique().tolist()\n",
        "dfz = pd.DataFrame(columns=['UserID', 'Competency', 'Rating', 'ValueType'])\n",
        "\n",
        "# Loop over users\n",
        "for users in user_List:\n",
        "    # Loop over competencies\n",
        "    for comp in competency_List:\n",
        "        # Predict the rating for the user and competency\n",
        "        prediction = algo.predict(users, comp)\n",
        "        # Extract the necessary information from the prediction object\n",
        "        uid = prediction.uid\n",
        "        iid = prediction.iid\n",
        "        est = prediction.est\n",
        "        # Append the prediction information to the dataframe\n",
        "        dfz = dfz.append({'UserID': uid, 'Competency': iid, 'Rating': est, 'ValueType': 'Competency'}, ignore_index=True)\n",
        "\n",
        "dfk = pd.DataFrame(columns=['UserID', 'Type', 'Rating', 'ValueType'])\n",
        "for users in user_List:\n",
        "    # Loop over content types\n",
        "    for types in type_List:\n",
        "        # Predict the rating for the user and competency\n",
        "        prediction = algo1.predict(users, types)\n",
        "        # Extract the necessary information from the prediction object\n",
        "        uid = prediction.uid\n",
        "        iid = prediction.iid\n",
        "        est = prediction.est\n",
        "        # Append the prediction information to the dataframe\n",
        "        dfk = dfk.append({'UserID': uid, 'Type': iid, 'Rating': est, 'ValueType': \"Type\"}, ignore_index=True)"
      ]
    },
    {
      "cell_type": "code",
      "execution_count": null,
      "metadata": {
        "id": "KEkn5pxaCVy6"
      },
      "outputs": [],
      "source": [
        "DFK = dfk.sort_values(by=['UserID','Rating'], ascending=[True,False])\n",
        "\n",
        "DFZ = dfz.sort_values(by=['UserID','Rating'], ascending=[True,False])"
      ]
    },
    {
      "cell_type": "code",
      "execution_count": null,
      "metadata": {
        "id": "nBzD0GkfjsnG"
      },
      "outputs": [],
      "source": [
        "from os import killpg\n",
        "from surprise import KNNWithMeans, KNNBaseline, KNNBasic\n",
        "from surprise.model_selection import train_test_split\n",
        "import random\n",
        "import matplotlib.pyplot as plt\n",
        "from sklearn.metrics import confusion_matrix\n",
        "from sklearn.metrics import ConfusionMatrixDisplay"
      ]
    },
    {
      "attachments": {},
      "cell_type": "markdown",
      "metadata": {
        "id": "srZUY7_QiW8a"
      },
      "source": [
        "#BaseLine Calculations"
      ]
    },
    {
      "cell_type": "code",
      "execution_count": null,
      "metadata": {
        "colab": {
          "base_uri": "https://localhost:8080/"
        },
        "id": "D6P04PISiWkw",
        "outputId": "4b5eb2ea-4746-47ef-9979-481dd442bac4"
      },
      "outputs": [
        {
          "name": "stdout",
          "output_type": "stream",
          "text": [
            "rating\n",
            "1         0.639405\n",
            "0         0.360595\n",
            "dtype: float64\n",
            "BaseLine to Beat 88%\n"
          ]
        }
      ],
      "source": [
        "df_Baseline = dfo[['rating']]\n",
        "print(df_Baseline.value_counts(normalize=True))\n",
        "\n",
        "print('BaseLine to Beat 88%')"
      ]
    },
    {
      "attachments": {},
      "cell_type": "markdown",
      "metadata": {
        "id": "FsuOe0V7rCUq"
      },
      "source": [
        "#Competency Model and Accuracy"
      ]
    },
    {
      "cell_type": "code",
      "execution_count": null,
      "metadata": {
        "colab": {
          "base_uri": "https://localhost:8080/",
          "height": 536
        },
        "id": "2dlf33fdVDLi",
        "outputId": "35e53e9b-8acb-4a80-c214-3dd9ece95826"
      },
      "outputs": [
        {
          "name": "stdout",
          "output_type": "stream",
          "text": [
            "Computing the cosine similarity matrix...\n",
            "Done computing similarity matrix.\n",
            "Computing the cosine similarity matrix...\n",
            "Done computing similarity matrix.\n",
            "Accuracy 0.779\n"
          ]
        },
        {
          "data": {
            "image/png": "[encoded data removed]",
            "text/plain": [
              "<Figure size 640x480 with 2 Axes>"
            ]
          },
          "metadata": {},
          "output_type": "display_data"
        }
      ],
      "source": [
        "\n",
        "# Load the data into a Dataset object\n",
        "data_comp = Dataset.load_from_df(df_comp[[\"CustID\", \"competency\", \"rating\"]], reader)\n",
        "# Split the data into training and testing sets\n",
        "trainset, testset = train_test_split(data_comp, test_size=0.3)\n",
        "# Define the similarity options for the algorithm\n",
        "sim_options = {\n",
        "      \"name\": \"cosine\",\n",
        "      \"user_based\": True,\n",
        "      \"k\" : 5\n",
        "  }\n",
        "  # Create the algorithm\n",
        "algo = KNNWithMeans(sim_options=sim_options)\n",
        "  # Train the algorithm on the training set\n",
        "algo.fit(trainset)\n",
        "  # Test the algorithm on the testing set and get the predictions\n",
        "predictions = algo.test(testset)\n",
        "algo.fit(trainset)\n",
        "# Test the algorithm on the testing set and get the predictions\n",
        "predictions = algo.test(testset)\n",
        "third_column = [row[2] for row in testset]\n",
        "#print(third_column)\n",
        "predicted_labels = [1 if prediction.est  > 0.5 else 0 for prediction in predictions]\n",
        "from sklearn.metrics import accuracy_score\n",
        "A = accuracy_score(third_column,predicted_labels, normalize=True)\n",
        "print(\"Accuracy {:.3f}\".format(A))\n",
        "cm = confusion_matrix(third_column, predicted_labels)\n",
        "cmap = 'Blues' \n",
        "disp = ConfusionMatrixDisplay(confusion_matrix=cm)\n",
        "disp.plot(cmap=cmap)\n",
        "plt.show()"
      ]
    },
    {
      "attachments": {},
      "cell_type": "markdown",
      "metadata": {
        "id": "wTWcFQn1iNWP"
      },
      "source": [
        "#Type Model and Accuracy"
      ]
    },
    {
      "cell_type": "code",
      "execution_count": null,
      "metadata": {
        "colab": {
          "base_uri": "https://localhost:8080/",
          "height": 501
        },
        "id": "NXuZJqfoVFoj",
        "outputId": "3fd59133-c557-4e12-fe85-5ce76a61399e"
      },
      "outputs": [
        {
          "name": "stdout",
          "output_type": "stream",
          "text": [
            "Computing the cosine similarity matrix...\n",
            "Done computing similarity matrix.\n",
            "Accuracy 0.941\n"
          ]
        },
        {
          "data": {
            "image/png": "[encoded data removed]",
            "text/plain": [
              "<Figure size 640x480 with 2 Axes>"
            ]
          },
          "metadata": {},
          "output_type": "display_data"
        }
      ],
      "source": [
        "# Load the data into a Dataset object\n",
        "data_type = Dataset.load_from_df(df_type[[\"CustID\", \"type\", \"rating\"]], reader)\n",
        "# Split the data into training and testing sets\n",
        "trainset, testset = train_test_split(data_type, test_size=0.3)\n",
        "# Define the similarity options for the algorithm\n",
        "sim_options = {\n",
        "    \"name\": \"cosine\",\n",
        "    \"user_based\": True,\n",
        "    \"k\" : 5\n",
        "}\n",
        "# Create the algorithm\n",
        "algo = KNNWithMeans(sim_options=sim_options)\n",
        "# Train the algorithm on the training set\n",
        "algo.fit(trainset)\n",
        "# Test the algorithm on the testing set and get the predictions\n",
        "predictions = algo.test(testset)\n",
        "third_column = [row[2] for row in testset]\n",
        "#print(third_column)\n",
        "predicted_labels = [1 if prediction.est  > 0.5 else 0 for prediction in predictions]\n",
        "from sklearn.metrics import accuracy_score\n",
        "A = accuracy_score(third_column,predicted_labels, normalize=True)\n",
        "print(\"Accuracy {:.3f}\".format(A))\n",
        "cm = confusion_matrix(third_column, predicted_labels)\n",
        "\n",
        "cmap = 'Blues' \n",
        "disp = ConfusionMatrixDisplay(confusion_matrix=cm)\n",
        "disp.plot(cmap=cmap)\n",
        "plt.show()"
      ]
    },
    {
      "cell_type": "code",
      "execution_count": null,
      "metadata": {
        "colab": {
          "base_uri": "https://localhost:8080/",
          "height": 501
        },
        "id": "LjFnwEFRXt4c",
        "outputId": "73cd65d8-efb9-4322-9ce7-97cdad14ae23"
      },
      "outputs": [
        {
          "name": "stdout",
          "output_type": "stream",
          "text": [
            "Computing the cosine similarity matrix...\n",
            "Done computing similarity matrix.\n",
            "Accuracy 0.765\n"
          ]
        },
        {
          "data": {
            "image/png": "[encoded data removed]",
            "text/plain": [
              "<Figure size 640x480 with 2 Axes>"
            ]
          },
          "metadata": {},
          "output_type": "display_data"
        }
      ],
      "source": [
        "\n",
        "# Load the data into a Dataset object\n",
        "data_resource = Dataset.load_from_df(df_resource[[\"CustID\", \"resource_id\", \"rating\"]], reader)\n",
        "# Split the data into training and testing sets\n",
        "trainset, testset = train_test_split(data_comp, test_size=0.3)\n",
        "\n",
        "  # Define the similarity options for the algorithm\n",
        "sim_options = {\n",
        "      \"name\": \"cosine\",\n",
        "      \"user_based\": True,\n",
        "      \"k\":5\n",
        "  }\n",
        "algo = KNNWithMeans(sim_options=sim_options)\n",
        "# Train the algorithm on the training set\n",
        "algo.fit(trainset)\n",
        "# Test the algorithm on the testing set and get the predictions\n",
        "predictions = algo.test(testset)\n",
        "third_column = [row[2] for row in testset]\n",
        "#print(third_column)\n",
        "predicted_labels = [1 if prediction.est  > 0.5 else 0 for prediction in predictions]\n",
        "from sklearn.metrics import accuracy_score\n",
        "A = accuracy_score(third_column,predicted_labels, normalize=True)\n",
        "print(\"Accuracy {:.3f}\".format(A))\n",
        "cm = confusion_matrix(third_column, predicted_labels)\n",
        "\n",
        "cmap = 'Blues' \n",
        "disp = ConfusionMatrixDisplay(confusion_matrix=cm)\n",
        "disp.plot(cmap=cmap)\n",
        "plt.show()"
      ]
    },
    {
      "attachments": {},
      "cell_type": "markdown",
      "metadata": {
        "id": "fIiYguZfiSvt"
      },
      "source": [
        "#resource_id Model and Accuracy"
      ]
    },
    {
      "cell_type": "code",
      "execution_count": null,
      "metadata": {
        "colab": {
          "base_uri": "https://localhost:8080/",
          "height": 848
        },
        "id": "i6vNhVcyleUv",
        "outputId": "3c9b2dae-aad3-4f3b-e5e9-351afaadd56c"
      },
      "outputs": [],
      "source": [
        "from surprise.model_selection import KFold\n",
        "\n",
        "# Load the data into a Dataset object\n",
        "data_comp = Dataset.load_from_df(df_resource[[\"CustID\", \"resource_id\", \"rating\"]], reader)\n",
        "\n",
        "# Define the similarity options for the algorithm\n",
        "sim_options = {\n",
        "    \"name\": \"cosine\",\n",
        "    \"user_based\": True,\n",
        "    \"k\": 25\n",
        "}\n",
        "# Create the algorithm\n",
        "algo = KNNWithMeans(sim_options=sim_options)\n",
        "# Perform K-Fold cross-validation\n",
        "kfold = KFold(n_splits=10)\n",
        "accuracy_scores = []\n",
        "for trainset, testset in kfold.split(data_comp):\n",
        "    # Train the algorithm on the training set\n",
        "    algo.fit(trainset)\n",
        "\n",
        "    # Test the algorithm on the testing set and get the predictions\n",
        "    predictions = algo.test(testset)\n",
        "\n",
        "    third_column = [row[2] for row in testset]\n",
        "\n",
        "    # Convert ratings to binary labels\n",
        "    predicted_labels = [1 if prediction.est > 0.5 else 0 for prediction in predictions]\n",
        "\n",
        "    # Compute accuracy\n",
        "    accuracy = accuracy_score(third_column, predicted_labels)\n",
        "    accuracy_scores.append(accuracy)\n",
        "\n",
        "# Compute the average accuracy across all folds\n",
        "avg_accuracy = np.mean(accuracy_scores)\n",
        "print(\"Average Accuracy: {:.3f}\".format(avg_accuracy))\n",
        "\n",
        "# Retrain the algorithm on the entire dataset\n",
        "trainset = data_comp.build_full_trainset()\n",
        "algo.fit(trainset)\n",
        "\n",
        "# Make predictions on the entire dataset\n",
        "predictions = algo.test(trainset.build_testset())\n",
        "# Extract the third column from the dataset for the confusion matrix\n",
        "third_column = [row[2] for row in trainset.build_testset()]\n",
        "\n",
        "# Convert ratings to binary labels\n",
        "predicted_labels = [1 if prediction.est > 0.5 else 0 for prediction in predictions]\n",
        "# Compute and display the confusion matrix\n",
        "cm = confusion_matrix(third_column, predicted_labels)\n",
        "cmap = 'Blues'  \n",
        "disp = ConfusionMatrixDisplay(confusion_matrix=cm)\n",
        "disp.plot(cmap=cmap)\n",
        "plt.show()"
      ]
    },
    {
      "attachments": {},
      "cell_type": "markdown",
      "metadata": {
        "id": "UKffqq3OmBA6"
      },
      "source": [
        "#Type Model and Accuracy"
      ]
    },
    {
      "cell_type": "code",
      "execution_count": null,
      "metadata": {
        "colab": {
          "base_uri": "https://localhost:8080/",
          "height": 848
        },
        "id": "YiVdGaf0lQF-",
        "outputId": "bf16fac5-79dd-47dc-cac9-c43f1c734fd0"
      },
      "outputs": [
        {
          "name": "stdout",
          "output_type": "stream",
          "text": [
            "Computing the cosine similarity matrix...\n",
            "Done computing similarity matrix.\n",
            "Computing the cosine similarity matrix...\n",
            "Done computing similarity matrix.\n",
            "Computing the cosine similarity matrix...\n",
            "Done computing similarity matrix.\n",
            "Computing the cosine similarity matrix...\n",
            "Done computing similarity matrix.\n",
            "Computing the cosine similarity matrix...\n",
            "Done computing similarity matrix.\n",
            "Computing the cosine similarity matrix...\n",
            "Done computing similarity matrix.\n",
            "Computing the cosine similarity matrix...\n",
            "Done computing similarity matrix.\n",
            "Computing the cosine similarity matrix...\n",
            "Done computing similarity matrix.\n",
            "Computing the cosine similarity matrix...\n",
            "Done computing similarity matrix.\n",
            "Computing the cosine similarity matrix...\n",
            "Done computing similarity matrix.\n",
            "Average Accuracy: 0.855\n",
            "Computing the cosine similarity matrix...\n",
            "Done computing similarity matrix.\n"
          ]
        },
        {
          "data": {
            "image/png": "[encoded data removed]",
            "text/plain": [
              "<Figure size 640x480 with 2 Axes>"
            ]
          },
          "metadata": {},
          "output_type": "display_data"
        }
      ],
      "source": [
        "from surprise.model_selection import KFold\n",
        "\n",
        "# Load the data into a Dataset object\n",
        "data_comp = Dataset.load_from_df(df_type[[\"CustID\", \"type\", \"rating\"]], reader)\n",
        "\n",
        "# Define the similarity options for the algorithm\n",
        "sim_options = {\n",
        "    \"name\": \"cosine\",\n",
        "    \"user_based\": True,\n",
        "    \"k\":25\n",
        "}\n",
        "# Create the algorithm\n",
        "algo = KNNWithMeans(sim_options=sim_options)\n",
        "\n",
        "# Perform K-Fold cross-validation\n",
        "kfold = KFold(n_splits=10)\n",
        "accuracy_scores = []\n",
        "\n",
        "for trainset, testset in kfold.split(data_comp):\n",
        "    # Train the algorithm on the training set\n",
        "    algo.fit(trainset)\n",
        "\n",
        "    # Test the algorithm on the testing set and get the predictions\n",
        "    predictions = algo.test(testset)\n",
        "\n",
        "    third_column = [row[2] for row in testset]\n",
        "\n",
        "    # Convert ratings to binary labels\n",
        "    predicted_labels = [1 if prediction.est > 0.5 else 0 for prediction in predictions]\n",
        "\n",
        "    # Compute accuracy\n",
        "    accuracy = accuracy_score(third_column, predicted_labels)\n",
        "    accuracy_scores.append(accuracy)\n",
        "\n",
        "# Compute the average accuracy across all folds\n",
        "avg_accuracy = np.mean(accuracy_scores)\n",
        "print(\"Average Accuracy: {:.3f}\".format(avg_accuracy))\n",
        "\n",
        "# Retrain the algorithm on the entire dataset\n",
        "trainset = data_comp.build_full_trainset()\n",
        "algo.fit(trainset)\n",
        "\n",
        "# Make predictions on the entire dataset\n",
        "predictions = algo.test(trainset.build_testset())\n",
        "\n",
        "# Extract the third column from the dataset for the confusion matrix\n",
        "third_column = [row[2] for row in trainset.build_testset()]\n",
        "\n",
        "# Convert ratings to binary labels\n",
        "predicted_labels = [1 if prediction.est > 0.5 else 0 for prediction in predictions]\n",
        "\n",
        "# Compute and display the confusion matrix\n",
        "cm = confusion_matrix(third_column, predicted_labels)\n",
        "cmap = 'Blues'  \n",
        "disp = ConfusionMatrixDisplay(confusion_matrix=cm)\n",
        "disp.plot(cmap=cmap)\n",
        "plt.show()"
      ]
    },
    {
      "attachments": {},
      "cell_type": "markdown",
      "metadata": {
        "id": "KGyBCRsamF1a"
      },
      "source": [
        "#Competency Model and Accuracy"
      ]
    },
    {
      "cell_type": "code",
      "execution_count": null,
      "metadata": {
        "colab": {
          "base_uri": "https://localhost:8080/",
          "height": 848
        },
        "id": "VTeeYCIylBHk",
        "outputId": "81a2504e-f98c-43a5-de61-a278f7ab8d79"
      },
      "outputs": [
        {
          "name": "stdout",
          "output_type": "stream",
          "text": [
            "Computing the cosine similarity matrix...\n",
            "Done computing similarity matrix.\n",
            "Computing the cosine similarity matrix...\n",
            "Done computing similarity matrix.\n",
            "Computing the cosine similarity matrix...\n",
            "Done computing similarity matrix.\n",
            "Computing the cosine similarity matrix...\n",
            "Done computing similarity matrix.\n",
            "Computing the cosine similarity matrix...\n",
            "Done computing similarity matrix.\n",
            "Computing the cosine similarity matrix...\n",
            "Done computing similarity matrix.\n",
            "Computing the cosine similarity matrix...\n",
            "Done computing similarity matrix.\n",
            "Computing the cosine similarity matrix...\n",
            "Done computing similarity matrix.\n",
            "Computing the cosine similarity matrix...\n",
            "Done computing similarity matrix.\n",
            "Computing the cosine similarity matrix...\n",
            "Done computing similarity matrix.\n",
            "Average Accuracy: 0.850\n",
            "Computing the cosine similarity matrix...\n",
            "Done computing similarity matrix.\n"
          ]
        },
        {
          "data": {
            "image/png": "[encoded data removed]",
            "text/plain": [
              "<Figure size 640x480 with 2 Axes>"
            ]
          },
          "metadata": {},
          "output_type": "display_data"
        }
      ],
      "source": [
        "from surprise.model_selection import KFold\n",
        "\n",
        "# Load the data into a Dataset object\n",
        "data_comp = Dataset.load_from_df(df_comp[[\"CustID\", \"competency\", \"rating\"]], reader)\n",
        "\n",
        "# Define the similarity options for the algorithm\n",
        "sim_options = {\n",
        "    \"name\": \"cosine\",\n",
        "    \"user_based\": True,\n",
        "    \"k\": 25\n",
        "}\n",
        "\n",
        "# Create the algorithm\n",
        "algo = KNNWithMeans(sim_options=sim_options)\n",
        "\n",
        "# Perform K-Fold cross-validation\n",
        "kfold = KFold(n_splits=10)\n",
        "accuracy_scores = []\n",
        "\n",
        "for trainset, testset in kfold.split(data_comp):\n",
        "    # Train the algorithm on the training set\n",
        "    algo.fit(trainset)\n",
        "\n",
        "    # Test the algorithm on the testing set and get the predictions\n",
        "    predictions = algo.test(testset)\n",
        "\n",
        "    third_column = [row[2] for row in testset]\n",
        "\n",
        "    # Convert ratings to binary labels\n",
        "    predicted_labels = [1 if prediction.est > 0.5 else 0 for prediction in predictions]\n",
        "\n",
        "    # Compute accuracy\n",
        "    accuracy = accuracy_score(third_column, predicted_labels)\n",
        "    accuracy_scores.append(accuracy)\n",
        "\n",
        "# Compute the average accuracy across all folds\n",
        "avg_accuracy = np.mean(accuracy_scores)\n",
        "print(\"Average Accuracy: {:.3f}\".format(avg_accuracy))\n",
        "\n",
        "# Retrain the algorithm on the entire dataset\n",
        "trainset = data_comp.build_full_trainset()\n",
        "algo.fit(trainset)\n",
        "\n",
        "# Make predictions on the entire dataset\n",
        "predictions = algo.test(trainset.build_testset())\n",
        "\n",
        "# Extract the third column from the dataset for the confusion matrix\n",
        "third_column = [row[2] for row in trainset.build_testset()]\n",
        "\n",
        "# Convert ratings to binary labels\n",
        "predicted_labels = [1 if prediction.est > 0.5 else 0 for prediction in predictions]\n",
        "\n",
        "# Compute and display the confusion matrix\n",
        "cm = confusion_matrix(third_column, predicted_labels)\n",
        "cmap = 'Blues'  \n",
        "disp = ConfusionMatrixDisplay(confusion_matrix=cm)\n",
        "disp.plot(cmap=cmap)\n",
        "plt.show()"
      ]
    },
    {
      "cell_type": "code",
      "execution_count": null,
      "metadata": {
        "id": "9VryF7mcQVMv"
      },
      "outputs": [],
      "source": [
        "from sklearn.cluster import AgglomerativeClustering\n",
        "from scipy.spatial.distance import pdist\n",
        "from scipy.cluster.hierarchy import dendrogram, linkage\n",
        "from sklearn.preprocessing import LabelEncoder\n"
      ]
    },
    {
      "cell_type": "code",
      "execution_count": null,
      "metadata": {
        "id": "WeB2H07zQtEU"
      },
      "outputs": [],
      "source": [
        "dfm = pd.read_csv(\"/content/drive/MyDrive/Comp /Export2v2v3.csv\")"
      ]
    },
    {
      "cell_type": "code",
      "execution_count": null,
      "metadata": {
        "id": "te9-hmBPRKbt"
      },
      "outputs": [],
      "source": [
        "label_encoder = LabelEncoder()"
      ]
    },
    {
      "cell_type": "code",
      "execution_count": null,
      "metadata": {
        "id": "v0JC14rrQ4Co"
      },
      "outputs": [],
      "source": [
        "dmpz = dfm[['rating','resource_id','type','competency','subCompetency']]"
      ]
    },
    {
      "cell_type": "code",
      "execution_count": null,
      "metadata": {
        "colab": {
          "base_uri": "https://localhost:8080/"
        },
        "id": "goVIr9MjReoU",
        "outputId": "de056986-8de1-4eb4-c8e0-ff5ba3b1219c"
      },
      "outputs": [],
      "source": [
        "\n",
        "label_encoder = LabelEncoder()\n",
        "\n",
        "# Fit the label encoder on the column and transform the strings to numeric labels\n",
        "dmpz['rating_c'] = label_encoder.fit_transform(dmpz['rating'])\n",
        "dmpz['resource_id_c'] = label_encoder.fit_transform(dmpz['resource_id'])\n",
        "dmpz['type_c'] = label_encoder.fit_transform(dmpz['type'])\n",
        "dmpz['competency_c'] = label_encoder.fit_transform(dmpz['competency'])\n",
        "dmpz['subCompetency_c'] = label_encoder.fit_transform(dmpz['subCompetency'])\n",
        "\n",
        "\n",
        "dmpzf = dmpz[['rating_c','resource_id_c','type_c','competency_c','subCompetency_c']]"
      ]
    },
    {
      "cell_type": "code",
      "execution_count": null,
      "metadata": {
        "colab": {
          "base_uri": "https://localhost:8080/",
          "height": 482
        },
        "id": "RweN2natQhMw",
        "outputId": "8d51eeec-03bc-4538-9680-dd07702ad128"
      },
      "outputs": [
        {
          "data": {
            "image/png": "[encoded data removed]",
            "text/plain": [
              "<Figure size 1000x500 with 1 Axes>"
            ]
          },
          "metadata": {},
          "output_type": "display_data"
        }
      ],
      "source": [
        "\n",
        "dist_matrix = pdist(dmpzf.values, metric='cosine')\n",
        "\n",
        "# Perform hierarchical clustering\n",
        "linkage_matrix = linkage(dist_matrix, method='ward')\n",
        "\n",
        "# Plot the dendrogram\n",
        "plt.figure(figsize=(10, 5))\n",
        "dendrogram(linkage_matrix)\n",
        "plt.title('Dendrogram')\n",
        "plt.xlabel('Data Points')\n",
        "plt.ylabel('Distance')\n",
        "plt.show()\n",
        "\n",
        "n_clusters = 10  \n"
      ]
    }
  ],
  "metadata": {
    "colab": {
      "provenance": []
    },
    "kernelspec": {
      "display_name": "Python 3",
      "name": "python3"
    },
    "language_info": {
      "name": "python"
    }
  },
  "nbformat": 4,
  "nbformat_minor": 0
}
